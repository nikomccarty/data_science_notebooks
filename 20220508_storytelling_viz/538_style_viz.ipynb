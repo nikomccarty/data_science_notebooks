{
 "cells": [
  {
   "cell_type": "code",
   "execution_count": 114,
   "metadata": {},
   "outputs": [],
   "source": [
    "import pandas as pd\n",
    "import numpy as np\n",
    "\n",
    "import matplotlib.pyplot as plt\n",
    "import matplotlib.style as style\n",
    "%matplotlib inline"
   ]
  },
  {
   "cell_type": "code",
   "execution_count": 115,
   "metadata": {},
   "outputs": [],
   "source": [
    "df = pd.read_csv('euro-daily-hist_1999_2022.csv')"
   ]
  },
  {
   "cell_type": "code",
   "execution_count": 116,
   "metadata": {},
   "outputs": [
    {
     "data": {
      "text/html": [
       "<div>\n",
       "<style scoped>\n",
       "    .dataframe tbody tr th:only-of-type {\n",
       "        vertical-align: middle;\n",
       "    }\n",
       "\n",
       "    .dataframe tbody tr th {\n",
       "        vertical-align: top;\n",
       "    }\n",
       "\n",
       "    .dataframe thead th {\n",
       "        text-align: right;\n",
       "    }\n",
       "</style>\n",
       "<table border=\"1\" class=\"dataframe\">\n",
       "  <thead>\n",
       "    <tr style=\"text-align: right;\">\n",
       "      <th></th>\n",
       "      <th>Period\\Unit:</th>\n",
       "      <th>[Australian dollar ]</th>\n",
       "      <th>[Bulgarian lev ]</th>\n",
       "      <th>[Brazilian real ]</th>\n",
       "      <th>[Canadian dollar ]</th>\n",
       "      <th>[Swiss franc ]</th>\n",
       "      <th>[Chinese yuan renminbi ]</th>\n",
       "      <th>[Cypriot pound ]</th>\n",
       "      <th>[Czech koruna ]</th>\n",
       "      <th>[Danish krone ]</th>\n",
       "      <th>...</th>\n",
       "      <th>[Romanian leu ]</th>\n",
       "      <th>[Russian rouble ]</th>\n",
       "      <th>[Swedish krona ]</th>\n",
       "      <th>[Singapore dollar ]</th>\n",
       "      <th>[Slovenian tolar ]</th>\n",
       "      <th>[Slovak koruna ]</th>\n",
       "      <th>[Thai baht ]</th>\n",
       "      <th>[Turkish lira ]</th>\n",
       "      <th>[US dollar ]</th>\n",
       "      <th>[South African rand ]</th>\n",
       "    </tr>\n",
       "  </thead>\n",
       "  <tbody>\n",
       "    <tr>\n",
       "      <th>0</th>\n",
       "      <td>2022-04-08</td>\n",
       "      <td>1.4552</td>\n",
       "      <td>1.9558</td>\n",
       "      <td>5.1583</td>\n",
       "      <td>1.3675</td>\n",
       "      <td>1.0155</td>\n",
       "      <td>6.9115</td>\n",
       "      <td>NaN</td>\n",
       "      <td>24.479</td>\n",
       "      <td>7.4372</td>\n",
       "      <td>...</td>\n",
       "      <td>4.9425</td>\n",
       "      <td>NaN</td>\n",
       "      <td>10.2768</td>\n",
       "      <td>1.4801</td>\n",
       "      <td>NaN</td>\n",
       "      <td>NaN</td>\n",
       "      <td>36.4880</td>\n",
       "      <td>16.0237</td>\n",
       "      <td>1.0861</td>\n",
       "      <td>15.9968</td>\n",
       "    </tr>\n",
       "    <tr>\n",
       "      <th>1</th>\n",
       "      <td>2022-04-07</td>\n",
       "      <td>1.4578</td>\n",
       "      <td>1.9558</td>\n",
       "      <td>5.1460</td>\n",
       "      <td>1.3704</td>\n",
       "      <td>1.0185</td>\n",
       "      <td>6.9448</td>\n",
       "      <td>NaN</td>\n",
       "      <td>24.512</td>\n",
       "      <td>7.4378</td>\n",
       "      <td>...</td>\n",
       "      <td>4.9419</td>\n",
       "      <td>NaN</td>\n",
       "      <td>10.3130</td>\n",
       "      <td>1.4848</td>\n",
       "      <td>NaN</td>\n",
       "      <td>NaN</td>\n",
       "      <td>36.5410</td>\n",
       "      <td>16.0929</td>\n",
       "      <td>1.0916</td>\n",
       "      <td>16.0520</td>\n",
       "    </tr>\n",
       "    <tr>\n",
       "      <th>2</th>\n",
       "      <td>2022-04-06</td>\n",
       "      <td>1.4431</td>\n",
       "      <td>1.9558</td>\n",
       "      <td>5.0996</td>\n",
       "      <td>1.3647</td>\n",
       "      <td>1.0187</td>\n",
       "      <td>6.9498</td>\n",
       "      <td>NaN</td>\n",
       "      <td>24.441</td>\n",
       "      <td>7.4378</td>\n",
       "      <td>...</td>\n",
       "      <td>4.9433</td>\n",
       "      <td>NaN</td>\n",
       "      <td>10.2855</td>\n",
       "      <td>1.4844</td>\n",
       "      <td>NaN</td>\n",
       "      <td>NaN</td>\n",
       "      <td>36.7010</td>\n",
       "      <td>16.0998</td>\n",
       "      <td>1.0923</td>\n",
       "      <td>15.9934</td>\n",
       "    </tr>\n",
       "    <tr>\n",
       "      <th>3</th>\n",
       "      <td>2022-04-05</td>\n",
       "      <td>1.4374</td>\n",
       "      <td>1.9558</td>\n",
       "      <td>5.0384</td>\n",
       "      <td>1.3647</td>\n",
       "      <td>1.0141</td>\n",
       "      <td>6.9783</td>\n",
       "      <td>NaN</td>\n",
       "      <td>24.338</td>\n",
       "      <td>7.4378</td>\n",
       "      <td>...</td>\n",
       "      <td>4.9438</td>\n",
       "      <td>NaN</td>\n",
       "      <td>10.2593</td>\n",
       "      <td>1.4867</td>\n",
       "      <td>NaN</td>\n",
       "      <td>NaN</td>\n",
       "      <td>36.6970</td>\n",
       "      <td>16.1500</td>\n",
       "      <td>1.0969</td>\n",
       "      <td>15.9529</td>\n",
       "    </tr>\n",
       "    <tr>\n",
       "      <th>4</th>\n",
       "      <td>2022-04-04</td>\n",
       "      <td>1.4651</td>\n",
       "      <td>1.9558</td>\n",
       "      <td>5.1162</td>\n",
       "      <td>1.3749</td>\n",
       "      <td>1.0203</td>\n",
       "      <td>7.0026</td>\n",
       "      <td>NaN</td>\n",
       "      <td>24.320</td>\n",
       "      <td>7.4385</td>\n",
       "      <td>...</td>\n",
       "      <td>4.9432</td>\n",
       "      <td>NaN</td>\n",
       "      <td>10.3849</td>\n",
       "      <td>1.4938</td>\n",
       "      <td>NaN</td>\n",
       "      <td>NaN</td>\n",
       "      <td>36.8940</td>\n",
       "      <td>16.1830</td>\n",
       "      <td>1.1005</td>\n",
       "      <td>16.0957</td>\n",
       "    </tr>\n",
       "  </tbody>\n",
       "</table>\n",
       "<p>5 rows × 41 columns</p>\n",
       "</div>"
      ],
      "text/plain": [
       "  Period\\Unit: [Australian dollar ] [Bulgarian lev ] [Brazilian real ]  \\\n",
       "0   2022-04-08               1.4552           1.9558            5.1583   \n",
       "1   2022-04-07               1.4578           1.9558            5.1460   \n",
       "2   2022-04-06               1.4431           1.9558            5.0996   \n",
       "3   2022-04-05               1.4374           1.9558            5.0384   \n",
       "4   2022-04-04               1.4651           1.9558            5.1162   \n",
       "\n",
       "  [Canadian dollar ] [Swiss franc ] [Chinese yuan renminbi ] [Cypriot pound ]  \\\n",
       "0             1.3675         1.0155                   6.9115              NaN   \n",
       "1             1.3704         1.0185                   6.9448              NaN   \n",
       "2             1.3647         1.0187                   6.9498              NaN   \n",
       "3             1.3647         1.0141                   6.9783              NaN   \n",
       "4             1.3749         1.0203                   7.0026              NaN   \n",
       "\n",
       "  [Czech koruna ] [Danish krone ]  ... [Romanian leu ] [Russian rouble ]  \\\n",
       "0          24.479          7.4372  ...          4.9425               NaN   \n",
       "1          24.512          7.4378  ...          4.9419               NaN   \n",
       "2          24.441          7.4378  ...          4.9433               NaN   \n",
       "3          24.338          7.4378  ...          4.9438               NaN   \n",
       "4          24.320          7.4385  ...          4.9432               NaN   \n",
       "\n",
       "  [Swedish krona ] [Singapore dollar ] [Slovenian tolar ] [Slovak koruna ]  \\\n",
       "0          10.2768              1.4801                NaN              NaN   \n",
       "1          10.3130              1.4848                NaN              NaN   \n",
       "2          10.2855              1.4844                NaN              NaN   \n",
       "3          10.2593              1.4867                NaN              NaN   \n",
       "4          10.3849              1.4938                NaN              NaN   \n",
       "\n",
       "  [Thai baht ] [Turkish lira ] [US dollar ]  [South African rand ]  \n",
       "0      36.4880         16.0237       1.0861                15.9968  \n",
       "1      36.5410         16.0929       1.0916                16.0520  \n",
       "2      36.7010         16.0998       1.0923                15.9934  \n",
       "3      36.6970         16.1500       1.0969                15.9529  \n",
       "4      36.8940         16.1830       1.1005                16.0957  \n",
       "\n",
       "[5 rows x 41 columns]"
      ]
     },
     "execution_count": 116,
     "metadata": {},
     "output_type": "execute_result"
    }
   ],
   "source": [
    "df.head()"
   ]
  },
  {
   "cell_type": "code",
   "execution_count": 117,
   "metadata": {},
   "outputs": [
    {
     "name": "stdout",
     "output_type": "stream",
     "text": [
      "<class 'pandas.core.frame.DataFrame'>\n",
      "RangeIndex: 6022 entries, 0 to 6021\n",
      "Data columns (total 41 columns):\n",
      " #   Column                    Non-Null Count  Dtype  \n",
      "---  ------                    --------------  -----  \n",
      " 0   Period\\Unit:              6022 non-null   object \n",
      " 1   [Australian dollar ]      6022 non-null   object \n",
      " 2   [Bulgarian lev ]          5620 non-null   object \n",
      " 3   [Brazilian real ]         5754 non-null   object \n",
      " 4   [Canadian dollar ]        6022 non-null   object \n",
      " 5   [Swiss franc ]            6022 non-null   object \n",
      " 6   [Chinese yuan renminbi ]  5754 non-null   object \n",
      " 7   [Cypriot pound ]          2346 non-null   object \n",
      " 8   [Czech koruna ]           6022 non-null   object \n",
      " 9   [Danish krone ]           6022 non-null   object \n",
      " 10  [Estonian kroon ]         3130 non-null   object \n",
      " 11  [UK pound sterling ]      6022 non-null   object \n",
      " 12  [Greek drachma ]          520 non-null    object \n",
      " 13  [Hong Kong dollar ]       6022 non-null   object \n",
      " 14  [Croatian kuna ]          5754 non-null   object \n",
      " 15  [Hungarian forint ]       6022 non-null   object \n",
      " 16  [Indonesian rupiah ]      6022 non-null   object \n",
      " 17  [Israeli shekel ]         5754 non-null   object \n",
      " 18  [Indian rupee ]           5754 non-null   object \n",
      " 19  [Iceland krona ]          3615 non-null   float64\n",
      " 20  [Japanese yen ]           6022 non-null   object \n",
      " 21  [Korean won ]             6022 non-null   object \n",
      " 22  [Lithuanian litas ]       4159 non-null   object \n",
      " 23  [Latvian lats ]           3904 non-null   object \n",
      " 24  [Maltese lira ]           2346 non-null   object \n",
      " 25  [Mexican peso ]           6022 non-null   object \n",
      " 26  [Malaysian ringgit ]      6022 non-null   object \n",
      " 27  [Norwegian krone ]        6022 non-null   object \n",
      " 28  [New Zealand dollar ]     6022 non-null   object \n",
      " 29  [Philippine peso ]        6022 non-null   object \n",
      " 30  [Polish zloty ]           6022 non-null   object \n",
      " 31  [Romanian leu ]           5960 non-null   float64\n",
      " 32  [Russian rouble ]         5994 non-null   object \n",
      " 33  [Swedish krona ]          6022 non-null   object \n",
      " 34  [Singapore dollar ]       6022 non-null   object \n",
      " 35  [Slovenian tolar ]        2085 non-null   object \n",
      " 36  [Slovak koruna ]          2608 non-null   object \n",
      " 37  [Thai baht ]              6022 non-null   object \n",
      " 38  [Turkish lira ]           5960 non-null   float64\n",
      " 39  [US dollar ]              6022 non-null   object \n",
      " 40  [South African rand ]     6022 non-null   object \n",
      "dtypes: float64(3), object(38)\n",
      "memory usage: 1.9+ MB\n"
     ]
    }
   ],
   "source": [
    "df.info()"
   ]
  },
  {
   "cell_type": "markdown",
   "metadata": {},
   "source": [
    "Many columns are missing values. There are 40 columns, most of which were read in as 'objects,' or strings. There are many null values."
   ]
  },
  {
   "cell_type": "markdown",
   "metadata": {},
   "source": [
    "### Rename Columns, Change to Datetime"
   ]
  },
  {
   "cell_type": "code",
   "execution_count": 118,
   "metadata": {},
   "outputs": [],
   "source": [
    "df.rename(columns={'[US dollar ]': 'US_dollar',\n",
    "                               'Period\\\\Unit:': 'Time'},\n",
    "                      inplace=True)\n",
    "df['Time'] = pd.to_datetime(df['Time'])\n",
    "df.sort_values('Time', inplace=True)\n",
    "df.reset_index(drop=True, inplace=True)"
   ]
  },
  {
   "cell_type": "code",
   "execution_count": 119,
   "metadata": {},
   "outputs": [],
   "source": [
    "df_sect = df[['Time', 'US_dollar']]"
   ]
  },
  {
   "cell_type": "code",
   "execution_count": 120,
   "metadata": {},
   "outputs": [
    {
     "data": {
      "text/html": [
       "<div>\n",
       "<style scoped>\n",
       "    .dataframe tbody tr th:only-of-type {\n",
       "        vertical-align: middle;\n",
       "    }\n",
       "\n",
       "    .dataframe tbody tr th {\n",
       "        vertical-align: top;\n",
       "    }\n",
       "\n",
       "    .dataframe thead th {\n",
       "        text-align: right;\n",
       "    }\n",
       "</style>\n",
       "<table border=\"1\" class=\"dataframe\">\n",
       "  <thead>\n",
       "    <tr style=\"text-align: right;\">\n",
       "      <th></th>\n",
       "      <th>Time</th>\n",
       "      <th>US_dollar</th>\n",
       "    </tr>\n",
       "  </thead>\n",
       "  <tbody>\n",
       "    <tr>\n",
       "      <th>0</th>\n",
       "      <td>1999-01-04</td>\n",
       "      <td>1.1789</td>\n",
       "    </tr>\n",
       "    <tr>\n",
       "      <th>1</th>\n",
       "      <td>1999-01-05</td>\n",
       "      <td>1.1790</td>\n",
       "    </tr>\n",
       "    <tr>\n",
       "      <th>2</th>\n",
       "      <td>1999-01-06</td>\n",
       "      <td>1.1743</td>\n",
       "    </tr>\n",
       "    <tr>\n",
       "      <th>3</th>\n",
       "      <td>1999-01-07</td>\n",
       "      <td>1.1632</td>\n",
       "    </tr>\n",
       "    <tr>\n",
       "      <th>4</th>\n",
       "      <td>1999-01-08</td>\n",
       "      <td>1.1659</td>\n",
       "    </tr>\n",
       "  </tbody>\n",
       "</table>\n",
       "</div>"
      ],
      "text/plain": [
       "        Time US_dollar\n",
       "0 1999-01-04    1.1789\n",
       "1 1999-01-05    1.1790\n",
       "2 1999-01-06    1.1743\n",
       "3 1999-01-07    1.1632\n",
       "4 1999-01-08    1.1659"
      ]
     },
     "execution_count": 120,
     "metadata": {},
     "output_type": "execute_result"
    }
   ],
   "source": [
    "df_sect.head()"
   ]
  },
  {
   "cell_type": "code",
   "execution_count": 121,
   "metadata": {},
   "outputs": [
    {
     "data": {
      "text/plain": [
       "-         62\n",
       "1.2276     9\n",
       "1.1215     8\n",
       "1.1268     7\n",
       "1.1305     7\n",
       "          ..\n",
       "0.8824     1\n",
       "1.3623     1\n",
       "1.3683     1\n",
       "1.3322     1\n",
       "1.1051     1\n",
       "Name: US_dollar, Length: 3595, dtype: int64"
      ]
     },
     "execution_count": 121,
     "metadata": {},
     "output_type": "execute_result"
    }
   ],
   "source": [
    "df_sect['US_dollar'].value_counts()"
   ]
  },
  {
   "cell_type": "markdown",
   "metadata": {},
   "source": [
    "62 rows have a \"Null\" value that is represented by a single dash sign. Let's remove those rows."
   ]
  },
  {
   "cell_type": "code",
   "execution_count": 122,
   "metadata": {},
   "outputs": [],
   "source": [
    "bool_selector = df_sect[df_sect['US_dollar'] != \"-\"]\n",
    "df_sect = bool_selector"
   ]
  },
  {
   "cell_type": "code",
   "execution_count": 123,
   "metadata": {},
   "outputs": [
    {
     "data": {
      "text/plain": [
       "1.2276    9\n",
       "1.1215    8\n",
       "1.1268    7\n",
       "1.1305    7\n",
       "1.1346    6\n",
       "         ..\n",
       "0.8824    1\n",
       "1.3623    1\n",
       "1.3683    1\n",
       "1.3322    1\n",
       "1.1051    1\n",
       "Name: US_dollar, Length: 3594, dtype: int64"
      ]
     },
     "execution_count": 123,
     "metadata": {},
     "output_type": "execute_result"
    }
   ],
   "source": [
    "df_sect['US_dollar'].value_counts()"
   ]
  },
  {
   "cell_type": "code",
   "execution_count": 124,
   "metadata": {},
   "outputs": [],
   "source": [
    "df_sect['US_dollar'] = df_sect['US_dollar'].astype(float)"
   ]
  },
  {
   "cell_type": "markdown",
   "metadata": {},
   "source": [
    "### Plot Evolution of Euro-USD Exchange Rate"
   ]
  },
  {
   "cell_type": "code",
   "execution_count": 125,
   "metadata": {},
   "outputs": [
    {
     "data": {
      "image/png": "[encoded data removed]",
      "text/plain": [
       "<Figure size 432x288 with 1 Axes>"
      ]
     },
     "metadata": {
      "needs_background": "light"
     },
     "output_type": "display_data"
    }
   ],
   "source": [
    "plt.plot(df_sect['Time'], df_sect['US_dollar'])\n",
    "plt.show()"
   ]
  },
  {
   "cell_type": "markdown",
   "metadata": {},
   "source": [
    "#### Compute Rolling Means"
   ]
  },
  {
   "cell_type": "code",
   "execution_count": 126,
   "metadata": {},
   "outputs": [],
   "source": [
    "df_sect['rolling_30_mean'] = df_sect['US_dollar'].rolling(30).mean()\n",
    "df_sect['rolling_365_mean'] = df_sect['US_dollar'].rolling(365).mean()"
   ]
  },
  {
   "cell_type": "code",
   "execution_count": 127,
   "metadata": {},
   "outputs": [
    {
     "data": {
      "image/png": "[encoded data removed]",
      "text/plain": [
       "<Figure size 432x288 with 1 Axes>"
      ]
     },
     "metadata": {
      "needs_background": "light"
     },
     "output_type": "display_data"
    }
   ],
   "source": [
    "plt.plot(df_sect['Time'], df_sect['US_dollar'], color='blue')\n",
    "plt.plot(df_sect['Time'], df_sect['rolling_30_mean'], color='orange')\n",
    "plt.plot(df_sect['Time'], df_sect['rolling_365_mean'], color='black')\n",
    "plt.show()"
   ]
  },
  {
   "cell_type": "markdown",
   "metadata": {},
   "source": [
    "### Chart Idea\n",
    "\n",
    "I will build a chart that shows the Euro-Dollar rate during the Coronavirus pandemic. I'll make six little charts, in a grid. One will be for 2016, 2017, 2018, 2019 and then 2020. The sixth chart will show all lines overlaid on each other; I'll calculate the average across all five prior years, and then plot COVID year on top. Rough idea in my head. Gray out and de-emphasize prior year lines, too."
   ]
  },
  {
   "cell_type": "code",
   "execution_count": 128,
   "metadata": {},
   "outputs": [],
   "source": [
    "plt.style.use('fivethirtyeight')"
   ]
  },
  {
   "cell_type": "code",
   "execution_count": 129,
   "metadata": {},
   "outputs": [
    {
     "data": {
      "text/html": [
       "<div>\n",
       "<style scoped>\n",
       "    .dataframe tbody tr th:only-of-type {\n",
       "        vertical-align: middle;\n",
       "    }\n",
       "\n",
       "    .dataframe tbody tr th {\n",
       "        vertical-align: top;\n",
       "    }\n",
       "\n",
       "    .dataframe thead th {\n",
       "        text-align: right;\n",
       "    }\n",
       "</style>\n",
       "<table border=\"1\" class=\"dataframe\">\n",
       "  <thead>\n",
       "    <tr style=\"text-align: right;\">\n",
       "      <th></th>\n",
       "      <th>Time</th>\n",
       "      <th>US_dollar</th>\n",
       "      <th>rolling_30_mean</th>\n",
       "      <th>rolling_365_mean</th>\n",
       "    </tr>\n",
       "  </thead>\n",
       "  <tbody>\n",
       "    <tr>\n",
       "      <th>0</th>\n",
       "      <td>1999-01-04</td>\n",
       "      <td>1.1789</td>\n",
       "      <td>NaN</td>\n",
       "      <td>NaN</td>\n",
       "    </tr>\n",
       "    <tr>\n",
       "      <th>1</th>\n",
       "      <td>1999-01-05</td>\n",
       "      <td>1.1790</td>\n",
       "      <td>NaN</td>\n",
       "      <td>NaN</td>\n",
       "    </tr>\n",
       "    <tr>\n",
       "      <th>2</th>\n",
       "      <td>1999-01-06</td>\n",
       "      <td>1.1743</td>\n",
       "      <td>NaN</td>\n",
       "      <td>NaN</td>\n",
       "    </tr>\n",
       "    <tr>\n",
       "      <th>3</th>\n",
       "      <td>1999-01-07</td>\n",
       "      <td>1.1632</td>\n",
       "      <td>NaN</td>\n",
       "      <td>NaN</td>\n",
       "    </tr>\n",
       "    <tr>\n",
       "      <th>4</th>\n",
       "      <td>1999-01-08</td>\n",
       "      <td>1.1659</td>\n",
       "      <td>NaN</td>\n",
       "      <td>NaN</td>\n",
       "    </tr>\n",
       "  </tbody>\n",
       "</table>\n",
       "</div>"
      ],
      "text/plain": [
       "        Time  US_dollar  rolling_30_mean  rolling_365_mean\n",
       "0 1999-01-04     1.1789              NaN               NaN\n",
       "1 1999-01-05     1.1790              NaN               NaN\n",
       "2 1999-01-06     1.1743              NaN               NaN\n",
       "3 1999-01-07     1.1632              NaN               NaN\n",
       "4 1999-01-08     1.1659              NaN               NaN"
      ]
     },
     "execution_count": 129,
     "metadata": {},
     "output_type": "execute_result"
    }
   ],
   "source": [
    "df_sect.head()"
   ]
  },
  {
   "cell_type": "code",
   "execution_count": 130,
   "metadata": {},
   "outputs": [],
   "source": [
    "df_sect['year'] = df_sect['Time'].dt.year\n",
    "df_sect['month'] = df_sect['Time'].dt.month\n",
    "df_sect['day'] = df_sect['Time'].dt.dayofyear"
   ]
  },
  {
   "cell_type": "code",
   "execution_count": 131,
   "metadata": {},
   "outputs": [
    {
     "data": {
      "text/html": [
       "<div>\n",
       "<style scoped>\n",
       "    .dataframe tbody tr th:only-of-type {\n",
       "        vertical-align: middle;\n",
       "    }\n",
       "\n",
       "    .dataframe tbody tr th {\n",
       "        vertical-align: top;\n",
       "    }\n",
       "\n",
       "    .dataframe thead th {\n",
       "        text-align: right;\n",
       "    }\n",
       "</style>\n",
       "<table border=\"1\" class=\"dataframe\">\n",
       "  <thead>\n",
       "    <tr style=\"text-align: right;\">\n",
       "      <th></th>\n",
       "      <th>Time</th>\n",
       "      <th>US_dollar</th>\n",
       "      <th>rolling_30_mean</th>\n",
       "      <th>rolling_365_mean</th>\n",
       "      <th>year</th>\n",
       "      <th>month</th>\n",
       "      <th>day</th>\n",
       "    </tr>\n",
       "  </thead>\n",
       "  <tbody>\n",
       "    <tr>\n",
       "      <th>0</th>\n",
       "      <td>1999-01-04</td>\n",
       "      <td>1.1789</td>\n",
       "      <td>NaN</td>\n",
       "      <td>NaN</td>\n",
       "      <td>1999</td>\n",
       "      <td>1</td>\n",
       "      <td>4</td>\n",
       "    </tr>\n",
       "    <tr>\n",
       "      <th>1</th>\n",
       "      <td>1999-01-05</td>\n",
       "      <td>1.1790</td>\n",
       "      <td>NaN</td>\n",
       "      <td>NaN</td>\n",
       "      <td>1999</td>\n",
       "      <td>1</td>\n",
       "      <td>5</td>\n",
       "    </tr>\n",
       "    <tr>\n",
       "      <th>2</th>\n",
       "      <td>1999-01-06</td>\n",
       "      <td>1.1743</td>\n",
       "      <td>NaN</td>\n",
       "      <td>NaN</td>\n",
       "      <td>1999</td>\n",
       "      <td>1</td>\n",
       "      <td>6</td>\n",
       "    </tr>\n",
       "    <tr>\n",
       "      <th>3</th>\n",
       "      <td>1999-01-07</td>\n",
       "      <td>1.1632</td>\n",
       "      <td>NaN</td>\n",
       "      <td>NaN</td>\n",
       "      <td>1999</td>\n",
       "      <td>1</td>\n",
       "      <td>7</td>\n",
       "    </tr>\n",
       "    <tr>\n",
       "      <th>4</th>\n",
       "      <td>1999-01-08</td>\n",
       "      <td>1.1659</td>\n",
       "      <td>NaN</td>\n",
       "      <td>NaN</td>\n",
       "      <td>1999</td>\n",
       "      <td>1</td>\n",
       "      <td>8</td>\n",
       "    </tr>\n",
       "  </tbody>\n",
       "</table>\n",
       "</div>"
      ],
      "text/plain": [
       "        Time  US_dollar  rolling_30_mean  rolling_365_mean  year  month  day\n",
       "0 1999-01-04     1.1789              NaN               NaN  1999      1    4\n",
       "1 1999-01-05     1.1790              NaN               NaN  1999      1    5\n",
       "2 1999-01-06     1.1743              NaN               NaN  1999      1    6\n",
       "3 1999-01-07     1.1632              NaN               NaN  1999      1    7\n",
       "4 1999-01-08     1.1659              NaN               NaN  1999      1    8"
      ]
     },
     "execution_count": 131,
     "metadata": {},
     "output_type": "execute_result"
    }
   ],
   "source": [
    "df_sect.head()"
   ]
  },
  {
   "cell_type": "code",
   "execution_count": 133,
   "metadata": {},
   "outputs": [
    {
     "data": {
      "text/html": [
       "<div>\n",
       "<style scoped>\n",
       "    .dataframe tbody tr th:only-of-type {\n",
       "        vertical-align: middle;\n",
       "    }\n",
       "\n",
       "    .dataframe tbody tr th {\n",
       "        vertical-align: top;\n",
       "    }\n",
       "\n",
       "    .dataframe thead th {\n",
       "        text-align: right;\n",
       "    }\n",
       "</style>\n",
       "<table border=\"1\" class=\"dataframe\">\n",
       "  <thead>\n",
       "    <tr style=\"text-align: right;\">\n",
       "      <th></th>\n",
       "      <th>Time</th>\n",
       "      <th>US_dollar</th>\n",
       "      <th>rolling_30_mean</th>\n",
       "      <th>rolling_365_mean</th>\n",
       "      <th>year</th>\n",
       "      <th>month</th>\n",
       "      <th>day</th>\n",
       "    </tr>\n",
       "  </thead>\n",
       "  <tbody>\n",
       "    <tr>\n",
       "      <th>6012</th>\n",
       "      <td>2022-03-28</td>\n",
       "      <td>1.0966</td>\n",
       "      <td>1.110557</td>\n",
       "      <td>1.174656</td>\n",
       "      <td>2022</td>\n",
       "      <td>3</td>\n",
       "      <td>87</td>\n",
       "    </tr>\n",
       "    <tr>\n",
       "      <th>6013</th>\n",
       "      <td>2022-03-29</td>\n",
       "      <td>1.1085</td>\n",
       "      <td>1.109690</td>\n",
       "      <td>1.174480</td>\n",
       "      <td>2022</td>\n",
       "      <td>3</td>\n",
       "      <td>88</td>\n",
       "    </tr>\n",
       "    <tr>\n",
       "      <th>6014</th>\n",
       "      <td>2022-03-30</td>\n",
       "      <td>1.1126</td>\n",
       "      <td>1.108870</td>\n",
       "      <td>1.174322</td>\n",
       "      <td>2022</td>\n",
       "      <td>3</td>\n",
       "      <td>89</td>\n",
       "    </tr>\n",
       "    <tr>\n",
       "      <th>6015</th>\n",
       "      <td>2022-03-31</td>\n",
       "      <td>1.1101</td>\n",
       "      <td>1.107973</td>\n",
       "      <td>1.174158</td>\n",
       "      <td>2022</td>\n",
       "      <td>3</td>\n",
       "      <td>90</td>\n",
       "    </tr>\n",
       "    <tr>\n",
       "      <th>6016</th>\n",
       "      <td>2022-04-01</td>\n",
       "      <td>1.1052</td>\n",
       "      <td>1.106967</td>\n",
       "      <td>1.173994</td>\n",
       "      <td>2022</td>\n",
       "      <td>4</td>\n",
       "      <td>91</td>\n",
       "    </tr>\n",
       "    <tr>\n",
       "      <th>6017</th>\n",
       "      <td>2022-04-04</td>\n",
       "      <td>1.1005</td>\n",
       "      <td>1.105857</td>\n",
       "      <td>1.173803</td>\n",
       "      <td>2022</td>\n",
       "      <td>4</td>\n",
       "      <td>94</td>\n",
       "    </tr>\n",
       "    <tr>\n",
       "      <th>6018</th>\n",
       "      <td>2022-04-05</td>\n",
       "      <td>1.0969</td>\n",
       "      <td>1.104613</td>\n",
       "      <td>1.173597</td>\n",
       "      <td>2022</td>\n",
       "      <td>4</td>\n",
       "      <td>95</td>\n",
       "    </tr>\n",
       "    <tr>\n",
       "      <th>6019</th>\n",
       "      <td>2022-04-06</td>\n",
       "      <td>1.0923</td>\n",
       "      <td>1.103210</td>\n",
       "      <td>1.173342</td>\n",
       "      <td>2022</td>\n",
       "      <td>4</td>\n",
       "      <td>96</td>\n",
       "    </tr>\n",
       "    <tr>\n",
       "      <th>6020</th>\n",
       "      <td>2022-04-07</td>\n",
       "      <td>1.0916</td>\n",
       "      <td>1.102387</td>\n",
       "      <td>1.173080</td>\n",
       "      <td>2022</td>\n",
       "      <td>4</td>\n",
       "      <td>97</td>\n",
       "    </tr>\n",
       "    <tr>\n",
       "      <th>6021</th>\n",
       "      <td>2022-04-08</td>\n",
       "      <td>1.0861</td>\n",
       "      <td>1.101203</td>\n",
       "      <td>1.172800</td>\n",
       "      <td>2022</td>\n",
       "      <td>4</td>\n",
       "      <td>98</td>\n",
       "    </tr>\n",
       "  </tbody>\n",
       "</table>\n",
       "</div>"
      ],
      "text/plain": [
       "           Time  US_dollar  rolling_30_mean  rolling_365_mean  year  month  \\\n",
       "6012 2022-03-28     1.0966         1.110557          1.174656  2022      3   \n",
       "6013 2022-03-29     1.1085         1.109690          1.174480  2022      3   \n",
       "6014 2022-03-30     1.1126         1.108870          1.174322  2022      3   \n",
       "6015 2022-03-31     1.1101         1.107973          1.174158  2022      3   \n",
       "6016 2022-04-01     1.1052         1.106967          1.173994  2022      4   \n",
       "6017 2022-04-04     1.1005         1.105857          1.173803  2022      4   \n",
       "6018 2022-04-05     1.0969         1.104613          1.173597  2022      4   \n",
       "6019 2022-04-06     1.0923         1.103210          1.173342  2022      4   \n",
       "6020 2022-04-07     1.0916         1.102387          1.173080  2022      4   \n",
       "6021 2022-04-08     1.0861         1.101203          1.172800  2022      4   \n",
       "\n",
       "      day  \n",
       "6012   87  \n",
       "6013   88  \n",
       "6014   89  \n",
       "6015   90  \n",
       "6016   91  \n",
       "6017   94  \n",
       "6018   95  \n",
       "6019   96  \n",
       "6020   97  \n",
       "6021   98  "
      ]
     },
     "execution_count": 133,
     "metadata": {},
     "output_type": "execute_result"
    }
   ],
   "source": [
    "df_sect.tail(10)"
   ]
  },
  {
   "cell_type": "code",
   "execution_count": 146,
   "metadata": {},
   "outputs": [],
   "source": [
    "df_sect_2017 = df_sect[df_sect['year'] == 2017]\n",
    "df_sect_2018 = df_sect[df_sect['year'] == 2018]\n",
    "df_sect_2019 = df_sect[df_sect['year'] == 2019]\n",
    "df_sect_2020 = df_sect[df_sect['year'] == 2020]\n",
    "df_sect_2021 = df_sect[df_sect['year'] == 2021]"
   ]
  },
  {
   "cell_type": "code",
   "execution_count": 150,
   "metadata": {},
   "outputs": [
    {
     "name": "stdout",
     "output_type": "stream",
     "text": [
      "<class 'pandas.core.frame.DataFrame'>\n",
      "Int64Index: 765 entries, 4672 to 5436\n",
      "Data columns (total 7 columns):\n",
      " #   Column            Non-Null Count  Dtype         \n",
      "---  ------            --------------  -----         \n",
      " 0   Time              765 non-null    datetime64[ns]\n",
      " 1   US_dollar         765 non-null    float64       \n",
      " 2   rolling_30_mean   765 non-null    float64       \n",
      " 3   rolling_365_mean  765 non-null    float64       \n",
      " 4   year              765 non-null    int64         \n",
      " 5   month             765 non-null    int64         \n",
      " 6   day               765 non-null    int64         \n",
      "dtypes: datetime64[ns](1), float64(3), int64(3)\n",
      "memory usage: 47.8 KB\n"
     ]
    }
   ],
   "source": [
    "pre_covid_df = pd.concat([df_sect_2017, df_sect_2018, df_sect_2019])\n",
    "pre_covid_df.info()"
   ]
  },
  {
   "cell_type": "code",
   "execution_count": 152,
   "metadata": {},
   "outputs": [
    {
     "name": "stderr",
     "output_type": "stream",
     "text": [
      "c:\\Users\\nsmcc\\AppData\\Local\\Programs\\Python\\Python39\\lib\\site-packages\\pandas\\core\\groupby\\generic.py:1381: FutureWarning: DataFrame.mean and DataFrame.median with numeric_only=None will include datetime64 and datetime64tz columns in a future version.\n",
      "  fast_path = lambda group: getattr(group, func)(*args, **kwargs)\n"
     ]
    },
    {
     "ename": "ValueError",
     "evalue": "Wrong number of items passed 7, placement implies 1",
     "output_type": "error",
     "traceback": [
      "\u001b[1;31m---------------------------------------------------------------------------\u001b[0m",
      "\u001b[1;31mKeyError\u001b[0m                                  Traceback (most recent call last)",
      "\u001b[1;32mc:\\Users\\nsmcc\\AppData\\Local\\Programs\\Python\\Python39\\lib\\site-packages\\pandas\\core\\indexes\\base.py\u001b[0m in \u001b[0;36mget_loc\u001b[1;34m(self, key, method, tolerance)\u001b[0m\n\u001b[0;32m   3360\u001b[0m             \u001b[1;32mtry\u001b[0m\u001b[1;33m:\u001b[0m\u001b[1;33m\u001b[0m\u001b[1;33m\u001b[0m\u001b[0m\n\u001b[1;32m-> 3361\u001b[1;33m                 \u001b[1;32mreturn\u001b[0m \u001b[0mself\u001b[0m\u001b[1;33m.\u001b[0m\u001b[0m_engine\u001b[0m\u001b[1;33m.\u001b[0m\u001b[0mget_loc\u001b[0m\u001b[1;33m(\u001b[0m\u001b[0mcasted_key\u001b[0m\u001b[1;33m)\u001b[0m\u001b[1;33m\u001b[0m\u001b[1;33m\u001b[0m\u001b[0m\n\u001b[0m\u001b[0;32m   3362\u001b[0m             \u001b[1;32mexcept\u001b[0m \u001b[0mKeyError\u001b[0m \u001b[1;32mas\u001b[0m \u001b[0merr\u001b[0m\u001b[1;33m:\u001b[0m\u001b[1;33m\u001b[0m\u001b[1;33m\u001b[0m\u001b[0m\n",
      "\u001b[1;32mc:\\Users\\nsmcc\\AppData\\Local\\Programs\\Python\\Python39\\lib\\site-packages\\pandas\\_libs\\index.pyx\u001b[0m in \u001b[0;36mpandas._libs.index.IndexEngine.get_loc\u001b[1;34m()\u001b[0m\n",
      "\u001b[1;32mc:\\Users\\nsmcc\\AppData\\Local\\Programs\\Python\\Python39\\lib\\site-packages\\pandas\\_libs\\index.pyx\u001b[0m in \u001b[0;36mpandas._libs.index.IndexEngine.get_loc\u001b[1;34m()\u001b[0m\n",
      "\u001b[1;32mpandas\\_libs\\hashtable_class_helper.pxi\u001b[0m in \u001b[0;36mpandas._libs.hashtable.PyObjectHashTable.get_item\u001b[1;34m()\u001b[0m\n",
      "\u001b[1;32mpandas\\_libs\\hashtable_class_helper.pxi\u001b[0m in \u001b[0;36mpandas._libs.hashtable.PyObjectHashTable.get_item\u001b[1;34m()\u001b[0m\n",
      "\u001b[1;31mKeyError\u001b[0m: 'day_mean'",
      "\nThe above exception was the direct cause of the following exception:\n",
      "\u001b[1;31mKeyError\u001b[0m                                  Traceback (most recent call last)",
      "\u001b[1;32mc:\\Users\\nsmcc\\AppData\\Local\\Programs\\Python\\Python39\\lib\\site-packages\\pandas\\core\\frame.py\u001b[0m in \u001b[0;36m_set_item_mgr\u001b[1;34m(self, key, value)\u001b[0m\n\u001b[0;32m   3750\u001b[0m         \u001b[1;32mtry\u001b[0m\u001b[1;33m:\u001b[0m\u001b[1;33m\u001b[0m\u001b[1;33m\u001b[0m\u001b[0m\n\u001b[1;32m-> 3751\u001b[1;33m             \u001b[0mloc\u001b[0m \u001b[1;33m=\u001b[0m \u001b[0mself\u001b[0m\u001b[1;33m.\u001b[0m\u001b[0m_info_axis\u001b[0m\u001b[1;33m.\u001b[0m\u001b[0mget_loc\u001b[0m\u001b[1;33m(\u001b[0m\u001b[0mkey\u001b[0m\u001b[1;33m)\u001b[0m\u001b[1;33m\u001b[0m\u001b[1;33m\u001b[0m\u001b[0m\n\u001b[0m\u001b[0;32m   3752\u001b[0m         \u001b[1;32mexcept\u001b[0m \u001b[0mKeyError\u001b[0m\u001b[1;33m:\u001b[0m\u001b[1;33m\u001b[0m\u001b[1;33m\u001b[0m\u001b[0m\n",
      "\u001b[1;32mc:\\Users\\nsmcc\\AppData\\Local\\Programs\\Python\\Python39\\lib\\site-packages\\pandas\\core\\indexes\\base.py\u001b[0m in \u001b[0;36mget_loc\u001b[1;34m(self, key, method, tolerance)\u001b[0m\n\u001b[0;32m   3362\u001b[0m             \u001b[1;32mexcept\u001b[0m \u001b[0mKeyError\u001b[0m \u001b[1;32mas\u001b[0m \u001b[0merr\u001b[0m\u001b[1;33m:\u001b[0m\u001b[1;33m\u001b[0m\u001b[1;33m\u001b[0m\u001b[0m\n\u001b[1;32m-> 3363\u001b[1;33m                 \u001b[1;32mraise\u001b[0m \u001b[0mKeyError\u001b[0m\u001b[1;33m(\u001b[0m\u001b[0mkey\u001b[0m\u001b[1;33m)\u001b[0m \u001b[1;32mfrom\u001b[0m \u001b[0merr\u001b[0m\u001b[1;33m\u001b[0m\u001b[1;33m\u001b[0m\u001b[0m\n\u001b[0m\u001b[0;32m   3364\u001b[0m \u001b[1;33m\u001b[0m\u001b[0m\n",
      "\u001b[1;31mKeyError\u001b[0m: 'day_mean'",
      "\nDuring handling of the above exception, another exception occurred:\n",
      "\u001b[1;31mValueError\u001b[0m                                Traceback (most recent call last)",
      "\u001b[1;32m~\\AppData\\Local\\Temp/ipykernel_34448/1379147798.py\u001b[0m in \u001b[0;36m<module>\u001b[1;34m\u001b[0m\n\u001b[1;32m----> 1\u001b[1;33m \u001b[0mpre_covid_df\u001b[0m\u001b[1;33m[\u001b[0m\u001b[1;34m'day_mean'\u001b[0m\u001b[1;33m]\u001b[0m \u001b[1;33m=\u001b[0m \u001b[0mpre_covid_df\u001b[0m\u001b[1;33m.\u001b[0m\u001b[0mgroupby\u001b[0m\u001b[1;33m(\u001b[0m\u001b[0mpre_covid_df\u001b[0m\u001b[1;33m[\u001b[0m\u001b[1;34m'Time'\u001b[0m\u001b[1;33m]\u001b[0m\u001b[1;33m.\u001b[0m\u001b[0mdt\u001b[0m\u001b[1;33m.\u001b[0m\u001b[0mday\u001b[0m\u001b[1;33m)\u001b[0m\u001b[1;33m.\u001b[0m\u001b[0mtransform\u001b[0m\u001b[1;33m(\u001b[0m\u001b[1;34m'mean'\u001b[0m\u001b[1;33m)\u001b[0m\u001b[1;33m\u001b[0m\u001b[1;33m\u001b[0m\u001b[0m\n\u001b[0m",
      "\u001b[1;32mc:\\Users\\nsmcc\\AppData\\Local\\Programs\\Python\\Python39\\lib\\site-packages\\pandas\\core\\frame.py\u001b[0m in \u001b[0;36m__setitem__\u001b[1;34m(self, key, value)\u001b[0m\n\u001b[0;32m   3600\u001b[0m             \u001b[0mself\u001b[0m\u001b[1;33m.\u001b[0m\u001b[0m_setitem_array\u001b[0m\u001b[1;33m(\u001b[0m\u001b[0mkey\u001b[0m\u001b[1;33m,\u001b[0m \u001b[0mvalue\u001b[0m\u001b[1;33m)\u001b[0m\u001b[1;33m\u001b[0m\u001b[1;33m\u001b[0m\u001b[0m\n\u001b[0;32m   3601\u001b[0m         \u001b[1;32melif\u001b[0m \u001b[0misinstance\u001b[0m\u001b[1;33m(\u001b[0m\u001b[0mvalue\u001b[0m\u001b[1;33m,\u001b[0m \u001b[0mDataFrame\u001b[0m\u001b[1;33m)\u001b[0m\u001b[1;33m:\u001b[0m\u001b[1;33m\u001b[0m\u001b[1;33m\u001b[0m\u001b[0m\n\u001b[1;32m-> 3602\u001b[1;33m             \u001b[0mself\u001b[0m\u001b[1;33m.\u001b[0m\u001b[0m_set_item_frame_value\u001b[0m\u001b[1;33m(\u001b[0m\u001b[0mkey\u001b[0m\u001b[1;33m,\u001b[0m \u001b[0mvalue\u001b[0m\u001b[1;33m)\u001b[0m\u001b[1;33m\u001b[0m\u001b[1;33m\u001b[0m\u001b[0m\n\u001b[0m\u001b[0;32m   3603\u001b[0m         elif (\n\u001b[0;32m   3604\u001b[0m             \u001b[0mis_list_like\u001b[0m\u001b[1;33m(\u001b[0m\u001b[0mvalue\u001b[0m\u001b[1;33m)\u001b[0m\u001b[1;33m\u001b[0m\u001b[1;33m\u001b[0m\u001b[0m\n",
      "\u001b[1;32mc:\\Users\\nsmcc\\AppData\\Local\\Programs\\Python\\Python39\\lib\\site-packages\\pandas\\core\\frame.py\u001b[0m in \u001b[0;36m_set_item_frame_value\u001b[1;34m(self, key, value)\u001b[0m\n\u001b[0;32m   3740\u001b[0m         \u001b[1;31m# now align rows\u001b[0m\u001b[1;33m\u001b[0m\u001b[1;33m\u001b[0m\u001b[0m\n\u001b[0;32m   3741\u001b[0m         \u001b[0marraylike\u001b[0m \u001b[1;33m=\u001b[0m \u001b[0m_reindex_for_setitem\u001b[0m\u001b[1;33m(\u001b[0m\u001b[0mvalue\u001b[0m\u001b[1;33m,\u001b[0m \u001b[0mself\u001b[0m\u001b[1;33m.\u001b[0m\u001b[0mindex\u001b[0m\u001b[1;33m)\u001b[0m\u001b[1;33m\u001b[0m\u001b[1;33m\u001b[0m\u001b[0m\n\u001b[1;32m-> 3742\u001b[1;33m         \u001b[0mself\u001b[0m\u001b[1;33m.\u001b[0m\u001b[0m_set_item_mgr\u001b[0m\u001b[1;33m(\u001b[0m\u001b[0mkey\u001b[0m\u001b[1;33m,\u001b[0m \u001b[0marraylike\u001b[0m\u001b[1;33m)\u001b[0m\u001b[1;33m\u001b[0m\u001b[1;33m\u001b[0m\u001b[0m\n\u001b[0m\u001b[0;32m   3743\u001b[0m \u001b[1;33m\u001b[0m\u001b[0m\n\u001b[0;32m   3744\u001b[0m     \u001b[1;32mdef\u001b[0m \u001b[0m_iset_item_mgr\u001b[0m\u001b[1;33m(\u001b[0m\u001b[0mself\u001b[0m\u001b[1;33m,\u001b[0m \u001b[0mloc\u001b[0m\u001b[1;33m:\u001b[0m \u001b[0mint\u001b[0m \u001b[1;33m|\u001b[0m \u001b[0mslice\u001b[0m \u001b[1;33m|\u001b[0m \u001b[0mnp\u001b[0m\u001b[1;33m.\u001b[0m\u001b[0mndarray\u001b[0m\u001b[1;33m,\u001b[0m \u001b[0mvalue\u001b[0m\u001b[1;33m)\u001b[0m \u001b[1;33m->\u001b[0m \u001b[1;32mNone\u001b[0m\u001b[1;33m:\u001b[0m\u001b[1;33m\u001b[0m\u001b[1;33m\u001b[0m\u001b[0m\n",
      "\u001b[1;32mc:\\Users\\nsmcc\\AppData\\Local\\Programs\\Python\\Python39\\lib\\site-packages\\pandas\\core\\frame.py\u001b[0m in \u001b[0;36m_set_item_mgr\u001b[1;34m(self, key, value)\u001b[0m\n\u001b[0;32m   3752\u001b[0m         \u001b[1;32mexcept\u001b[0m \u001b[0mKeyError\u001b[0m\u001b[1;33m:\u001b[0m\u001b[1;33m\u001b[0m\u001b[1;33m\u001b[0m\u001b[0m\n\u001b[0;32m   3753\u001b[0m             \u001b[1;31m# This item wasn't present, just insert at end\u001b[0m\u001b[1;33m\u001b[0m\u001b[1;33m\u001b[0m\u001b[0m\n\u001b[1;32m-> 3754\u001b[1;33m             \u001b[0mself\u001b[0m\u001b[1;33m.\u001b[0m\u001b[0m_mgr\u001b[0m\u001b[1;33m.\u001b[0m\u001b[0minsert\u001b[0m\u001b[1;33m(\u001b[0m\u001b[0mlen\u001b[0m\u001b[1;33m(\u001b[0m\u001b[0mself\u001b[0m\u001b[1;33m.\u001b[0m\u001b[0m_info_axis\u001b[0m\u001b[1;33m)\u001b[0m\u001b[1;33m,\u001b[0m \u001b[0mkey\u001b[0m\u001b[1;33m,\u001b[0m \u001b[0mvalue\u001b[0m\u001b[1;33m)\u001b[0m\u001b[1;33m\u001b[0m\u001b[1;33m\u001b[0m\u001b[0m\n\u001b[0m\u001b[0;32m   3755\u001b[0m         \u001b[1;32melse\u001b[0m\u001b[1;33m:\u001b[0m\u001b[1;33m\u001b[0m\u001b[1;33m\u001b[0m\u001b[0m\n\u001b[0;32m   3756\u001b[0m             \u001b[0mself\u001b[0m\u001b[1;33m.\u001b[0m\u001b[0m_iset_item_mgr\u001b[0m\u001b[1;33m(\u001b[0m\u001b[0mloc\u001b[0m\u001b[1;33m,\u001b[0m \u001b[0mvalue\u001b[0m\u001b[1;33m)\u001b[0m\u001b[1;33m\u001b[0m\u001b[1;33m\u001b[0m\u001b[0m\n",
      "\u001b[1;32mc:\\Users\\nsmcc\\AppData\\Local\\Programs\\Python\\Python39\\lib\\site-packages\\pandas\\core\\internals\\managers.py\u001b[0m in \u001b[0;36minsert\u001b[1;34m(self, loc, item, value)\u001b[0m\n\u001b[0;32m   1160\u001b[0m             \u001b[0mvalue\u001b[0m \u001b[1;33m=\u001b[0m \u001b[0mensure_block_shape\u001b[0m\u001b[1;33m(\u001b[0m\u001b[0mvalue\u001b[0m\u001b[1;33m,\u001b[0m \u001b[0mndim\u001b[0m\u001b[1;33m=\u001b[0m\u001b[0mself\u001b[0m\u001b[1;33m.\u001b[0m\u001b[0mndim\u001b[0m\u001b[1;33m)\u001b[0m\u001b[1;33m\u001b[0m\u001b[1;33m\u001b[0m\u001b[0m\n\u001b[0;32m   1161\u001b[0m \u001b[1;33m\u001b[0m\u001b[0m\n\u001b[1;32m-> 1162\u001b[1;33m         \u001b[0mblock\u001b[0m \u001b[1;33m=\u001b[0m \u001b[0mnew_block\u001b[0m\u001b[1;33m(\u001b[0m\u001b[0mvalues\u001b[0m\u001b[1;33m=\u001b[0m\u001b[0mvalue\u001b[0m\u001b[1;33m,\u001b[0m \u001b[0mndim\u001b[0m\u001b[1;33m=\u001b[0m\u001b[0mself\u001b[0m\u001b[1;33m.\u001b[0m\u001b[0mndim\u001b[0m\u001b[1;33m,\u001b[0m \u001b[0mplacement\u001b[0m\u001b[1;33m=\u001b[0m\u001b[0mslice\u001b[0m\u001b[1;33m(\u001b[0m\u001b[0mloc\u001b[0m\u001b[1;33m,\u001b[0m \u001b[0mloc\u001b[0m \u001b[1;33m+\u001b[0m \u001b[1;36m1\u001b[0m\u001b[1;33m)\u001b[0m\u001b[1;33m)\u001b[0m\u001b[1;33m\u001b[0m\u001b[1;33m\u001b[0m\u001b[0m\n\u001b[0m\u001b[0;32m   1163\u001b[0m \u001b[1;33m\u001b[0m\u001b[0m\n\u001b[0;32m   1164\u001b[0m         \u001b[1;32mfor\u001b[0m \u001b[0mblkno\u001b[0m\u001b[1;33m,\u001b[0m \u001b[0mcount\u001b[0m \u001b[1;32min\u001b[0m \u001b[0m_fast_count_smallints\u001b[0m\u001b[1;33m(\u001b[0m\u001b[0mself\u001b[0m\u001b[1;33m.\u001b[0m\u001b[0mblknos\u001b[0m\u001b[1;33m[\u001b[0m\u001b[0mloc\u001b[0m\u001b[1;33m:\u001b[0m\u001b[1;33m]\u001b[0m\u001b[1;33m)\u001b[0m\u001b[1;33m:\u001b[0m\u001b[1;33m\u001b[0m\u001b[1;33m\u001b[0m\u001b[0m\n",
      "\u001b[1;32mc:\\Users\\nsmcc\\AppData\\Local\\Programs\\Python\\Python39\\lib\\site-packages\\pandas\\core\\internals\\blocks.py\u001b[0m in \u001b[0;36mnew_block\u001b[1;34m(values, placement, ndim, klass)\u001b[0m\n\u001b[0;32m   1930\u001b[0m \u001b[1;33m\u001b[0m\u001b[0m\n\u001b[0;32m   1931\u001b[0m     \u001b[0mvalues\u001b[0m\u001b[1;33m,\u001b[0m \u001b[0m_\u001b[0m \u001b[1;33m=\u001b[0m \u001b[0mextract_pandas_array\u001b[0m\u001b[1;33m(\u001b[0m\u001b[0mvalues\u001b[0m\u001b[1;33m,\u001b[0m \u001b[1;32mNone\u001b[0m\u001b[1;33m,\u001b[0m \u001b[0mndim\u001b[0m\u001b[1;33m)\u001b[0m\u001b[1;33m\u001b[0m\u001b[1;33m\u001b[0m\u001b[0m\n\u001b[1;32m-> 1932\u001b[1;33m     \u001b[0mcheck_ndim\u001b[0m\u001b[1;33m(\u001b[0m\u001b[0mvalues\u001b[0m\u001b[1;33m,\u001b[0m \u001b[0mplacement\u001b[0m\u001b[1;33m,\u001b[0m \u001b[0mndim\u001b[0m\u001b[1;33m)\u001b[0m\u001b[1;33m\u001b[0m\u001b[1;33m\u001b[0m\u001b[0m\n\u001b[0m\u001b[0;32m   1933\u001b[0m \u001b[1;33m\u001b[0m\u001b[0m\n\u001b[0;32m   1934\u001b[0m     \u001b[1;32mif\u001b[0m \u001b[0mklass\u001b[0m \u001b[1;32mis\u001b[0m \u001b[1;32mNone\u001b[0m\u001b[1;33m:\u001b[0m\u001b[1;33m\u001b[0m\u001b[1;33m\u001b[0m\u001b[0m\n",
      "\u001b[1;32mc:\\Users\\nsmcc\\AppData\\Local\\Programs\\Python\\Python39\\lib\\site-packages\\pandas\\core\\internals\\blocks.py\u001b[0m in \u001b[0;36mcheck_ndim\u001b[1;34m(values, placement, ndim)\u001b[0m\n\u001b[0;32m   1972\u001b[0m             )\n\u001b[0;32m   1973\u001b[0m         \u001b[1;32mif\u001b[0m \u001b[0mlen\u001b[0m\u001b[1;33m(\u001b[0m\u001b[0mplacement\u001b[0m\u001b[1;33m)\u001b[0m \u001b[1;33m!=\u001b[0m \u001b[0mlen\u001b[0m\u001b[1;33m(\u001b[0m\u001b[0mvalues\u001b[0m\u001b[1;33m)\u001b[0m\u001b[1;33m:\u001b[0m\u001b[1;33m\u001b[0m\u001b[1;33m\u001b[0m\u001b[0m\n\u001b[1;32m-> 1974\u001b[1;33m             raise ValueError(\n\u001b[0m\u001b[0;32m   1975\u001b[0m                 \u001b[1;34mf\"Wrong number of items passed {len(values)}, \"\u001b[0m\u001b[1;33m\u001b[0m\u001b[1;33m\u001b[0m\u001b[0m\n\u001b[0;32m   1976\u001b[0m                 \u001b[1;34mf\"placement implies {len(placement)}\"\u001b[0m\u001b[1;33m\u001b[0m\u001b[1;33m\u001b[0m\u001b[0m\n",
      "\u001b[1;31mValueError\u001b[0m: Wrong number of items passed 7, placement implies 1"
     ]
    }
   ],
   "source": [
    "pre_covid_df['day_mean'] = pre_covid_df.groupby(pre_covid_df['Time'].dt.day).transform('mean')"
   ]
  },
  {
   "cell_type": "code",
   "execution_count": 147,
   "metadata": {},
   "outputs": [
    {
     "data": {
      "image/png": "[encoded data removed]",
      "text/plain": [
       "<Figure size 576x648 with 3 Axes>"
      ]
     },
     "metadata": {},
     "output_type": "display_data"
    }
   ],
   "source": [
    "fig, (ax1, ax2, ax3) = plt.subplots(figsize=(8, 9), ncols=1, nrows=3, sharey=True)\n",
    "axes= [ax1, ax2, ax3]\n",
    "\n",
    "ax1.plot(df_sect_2017['day'], df_sect_2017['US_dollar'])\n",
    "ax1.plot(df_sect_2018['day'], df_sect_2018['US_dollar'])\n",
    "ax1.plot(df_sect_2019['day'], df_sect_2019['US_dollar'])\n",
    "ax1.plot(df_sect_2020['day'], df_sect_2020['US_dollar'])\n",
    "ax1.plot(df_sect_2021['day'], df_sect_2021['US_dollar'])\n",
    "plt.show()"
   ]
  },
  {
   "cell_type": "code",
   "execution_count": null,
   "metadata": {},
   "outputs": [],
   "source": []
  }
 ],
 "metadata": {
  "interpreter": {
   "hash": "b558cf6316093fd6916106206f989176d756b6ad16da2dfd79d1b4583600b6a8"
  },
  "kernelspec": {
   "display_name": "Python 3.9.7 64-bit",
   "language": "python",
   "name": "python3"
  },
  "language_info": {
   "codemirror_mode": {
    "name": "ipython",
    "version": 3
   },
   "file_extension": ".py",
   "mimetype": "text/x-python",
   "name": "python",
   "nbconvert_exporter": "python",
   "pygments_lexer": "ipython3",
   "version": "3.9.7"
  }
 },
 "nbformat": 4,
 "nbformat_minor": 4
}
