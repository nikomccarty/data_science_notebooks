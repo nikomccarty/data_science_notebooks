{
 "cells": [
  {
   "cell_type": "markdown",
   "metadata": {},
   "source": [
    "# Analysis of Mobile Apps"
   ]
  },
  {
   "cell_type": "markdown",
   "metadata": {},
   "source": [
    "**Functional Goal**: We are interested in apps with a maximal number of users. We assume that all apps are free to download, and generate income based on the size of its userbase.\n",
    "\n",
    "In this analysis, we use datasets from the App Store and Google Play to better understand which genres have a larger number of users.\n",
    "\n",
    "**Datasets**: \n",
    "* A sampling of 10,000 Android apps from Google Play; collected on August 2018. [Link to download .csv file](https://dq-content.s3.amazonaws.com/350/googleplaystore.csv).\n",
    "* A sampling of 7,000 iOS apps from the App Store; collected on July 2017. [Link to download .csv file](https://dq-content.s3.amazonaws.com/350/AppleStore.csv)."
   ]
  },
  {
   "cell_type": "markdown",
   "metadata": {},
   "source": [
    "The entirety of this analysis was done **sans Pandas**. Instead, the datasets were analyzed using pure Python and bespoke functions, with a touch of help from very common packages. Let's begin by reading in the datasets and importing some basic libraries."
   ]
  },
  {
   "cell_type": "code",
   "execution_count": 1,
   "metadata": {},
   "outputs": [],
   "source": [
    "import csv"
   ]
  },
  {
   "cell_type": "markdown",
   "metadata": {},
   "source": [
    "Define a function to repeatedly load in datasets, and convert them to a list-of-lists for easier, iterative analysis."
   ]
  },
  {
   "cell_type": "code",
   "execution_count": 2,
   "metadata": {},
   "outputs": [],
   "source": [
    "def open_data(dataset, headers=True):\n",
    "    '''\n",
    "    A function to convert .csv files to a list-of-lists.\n",
    "\n",
    "    Args:\n",
    "        dataset (str): Relative path to a dataset in .csv format.\n",
    "        headers (bool): Function returns first row of dataset, by default. Set to \"False\" to return only row with index 1 and higher.\n",
    "        \n",
    "    Dependencies:\n",
    "        import csv\n",
    "\n",
    "    Returns:\n",
    "        multi_list (list): A list of lists.\n",
    "    '''\n",
    "    pass\n",
    "    "
   ]
  },
  {
   "cell_type": "code",
   "execution_count": null,
   "metadata": {},
   "outputs": [],
   "source": []
  }
 ],
 "metadata": {
  "kernelspec": {
   "display_name": "Python 3",
   "language": "python",
   "name": "python3"
  },
  "language_info": {
   "codemirror_mode": {
    "name": "ipython",
    "version": 3
   },
   "file_extension": ".py",
   "mimetype": "text/x-python",
   "name": "python",
   "nbconvert_exporter": "python",
   "pygments_lexer": "ipython3",
   "version": "3.8.2"
  }
 },
 "nbformat": 4,
 "nbformat_minor": 2
}
